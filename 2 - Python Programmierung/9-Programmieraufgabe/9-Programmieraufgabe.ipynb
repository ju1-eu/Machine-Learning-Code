{
 "cells": [
  {
   "cell_type": "markdown",
   "metadata": {},
   "source": [
    "# Programmierübung 1\n",
    "\n",
    "**Wissenschaftliches Arbeiten mit Python**\n",
    "\n",
    "\n",
    "Benötigtes Wissen: Numpy und Matplotlib\n",
    "\n",
    "Aufgabe 1:\n",
    "\n",
    "Lege einen zufälligen, ganzzahligen Datensatz als Numpy Array an.\n",
    "Stelle diese Daten in Matplotlib als Scatterplot dar (Farbe=Blau).\n",
    "\n",
    "Aufgabe 2:\n",
    "\n",
    "Beschrifte dabei die Achsen nach Wahl und zeichne die Linie \n",
    "des Mittelwertes der Daten in Rot ein. \n",
    "\n",
    "Aufgabe 3: \n",
    "\n",
    "Gebe ebenfalls den Median aus Gelbe Linie im Plot aus."
   ]
  },
  {
   "cell_type": "code",
   "execution_count": 1,
   "metadata": {},
   "outputs": [],
   "source": [
    "import random\n",
    "import numpy as np\n",
    "import matplotlib.pyplot as plt"
   ]
  },
  {
   "cell_type": "code",
   "execution_count": 2,
   "metadata": {
    "scrolled": true
   },
   "outputs": [],
   "source": [
    "# Aufgabe 1\n",
    "\n",
    "# Aufgabe 2\n",
    "\n",
    "# Aufgabe 3\n"
   ]
  },
  {
   "cell_type": "code",
   "execution_count": null,
   "metadata": {},
   "outputs": [],
   "source": []
  }
 ],
 "metadata": {
  "kernelspec": {
   "display_name": "Python 3",
   "language": "python",
   "name": "python3"
  },
  "language_info": {
   "codemirror_mode": {
    "name": "ipython",
    "version": 3
   },
   "file_extension": ".py",
   "mimetype": "text/x-python",
   "name": "python",
   "nbconvert_exporter": "python",
   "pygments_lexer": "ipython3",
   "version": "3.7.6"
  }
 },
 "nbformat": 4,
 "nbformat_minor": 2
}
