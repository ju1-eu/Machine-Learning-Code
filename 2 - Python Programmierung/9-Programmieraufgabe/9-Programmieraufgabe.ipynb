{
 "cells": [
  {
   "cell_type": "code",
   "execution_count": 7,
   "metadata": {},
   "outputs": [
    {
     "data": {
      "text/plain": [
       "'\\nBenötigtes Wissen: Numpy und Matplotlib\\n\\nAufgabe 1:\\n\\nLege einen zufälligen, ganzzahligen Datensatz als Numpy Array an.\\nStelle diese Daten in Matplotlib als Scatterplot dar (Farbe=Blau).\\n\\nAufgabe 2:\\n\\nBeschrifte dabei die Achsen nach Wahl und zeichne die Linie \\ndes Mittelwertes der Daten in Rot ein. \\n\\nAufgabe 3: \\n\\nGebe ebenfalls den Median aus Gelbe Linie im Plot aus.\\n'"
      ]
     },
     "execution_count": 7,
     "metadata": {},
     "output_type": "execute_result"
    }
   ],
   "source": [
    "'''\n",
    "Benötigtes Wissen: Numpy und Matplotlib\n",
    "\n",
    "Aufgabe 1:\n",
    "\n",
    "Lege einen zufälligen, ganzzahligen Datensatz als Numpy Array an.\n",
    "Stelle diese Daten in Matplotlib als Scatterplot dar (Farbe=Blau).\n",
    "\n",
    "Aufgabe 2:\n",
    "\n",
    "Beschrifte dabei die Achsen nach Wahl und zeichne die Linie \n",
    "des Mittelwertes der Daten in Rot ein. \n",
    "\n",
    "Aufgabe 3: \n",
    "\n",
    "Gebe ebenfalls den Median aus Gelbe Linie im Plot aus.\n",
    "'''"
   ]
  },
  {
   "cell_type": "code",
   "execution_count": 2,
   "metadata": {},
   "outputs": [],
   "source": [
    "import random\n",
    "import numpy as np\n",
    "import matplotlib.pyplot as plt"
   ]
  },
  {
   "cell_type": "code",
   "execution_count": 6,
   "metadata": {
    "scrolled": true
   },
   "outputs": [
    {
     "data": {
      "image/png": "[encoded data removed]",
      "text/plain": [
       "<matplotlib.figure.Figure at 0x26588e8e470>"
      ]
     },
     "metadata": {},
     "output_type": "display_data"
    }
   ],
   "source": [
    "# Aufgabe 1\n",
    "data = [random.randint(val, val * 2) for val in range(30)]\n",
    "plt.scatter(range(30), data, color=\"blue\")\n",
    "# Aufgabe 2\n",
    "plt.xlabel(\"x\")\n",
    "plt.ylabel(\"y\")\n",
    "\n",
    "mean = np.mean(data, dtype=np.float64)\n",
    "plt.plot((0, 30), (mean, mean), color=\"red\")\n",
    "\n",
    "# Aufgabe 3\n",
    "median = np.median(data)\n",
    "plt.plot((0, 30), (median, median), color=\"yellow\")\n",
    "\n",
    "plt.show()"
   ]
  },
  {
   "cell_type": "code",
   "execution_count": null,
   "metadata": {},
   "outputs": [],
   "source": []
  }
 ],
 "metadata": {
  "kernelspec": {
   "display_name": "Python 3",
   "language": "python",
   "name": "python3"
  },
  "language_info": {
   "codemirror_mode": {
    "name": "ipython",
    "version": 3
   },
   "file_extension": ".py",
   "mimetype": "text/x-python",
   "name": "python",
   "nbconvert_exporter": "python",
   "pygments_lexer": "ipython3",
   "version": "3.6.4"
  }
 },
 "nbformat": 4,
 "nbformat_minor": 2
}
