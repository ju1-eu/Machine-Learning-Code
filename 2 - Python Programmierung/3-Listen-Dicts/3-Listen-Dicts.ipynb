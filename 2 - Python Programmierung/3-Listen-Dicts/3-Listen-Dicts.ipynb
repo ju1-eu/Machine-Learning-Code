{
 "cells": [
  {
   "cell_type": "code",
   "execution_count": 7,
   "metadata": {},
   "outputs": [
    {
     "name": "stdout",
     "output_type": "stream",
     "text": [
      "[1, 2, 3, 1.5, True, 'Jan']\n"
     ]
    },
    {
     "data": {
      "text/plain": [
       "6"
      ]
     },
     "execution_count": 7,
     "metadata": {},
     "output_type": "execute_result"
    }
   ],
   "source": [
    "#Listen\n",
    "my_list = [1, 2, 3, 1.5, True, \"Jan\"]\n",
    "print(my_list)\n",
    "len(my_list)"
   ]
  },
  {
   "cell_type": "code",
   "execution_count": 12,
   "metadata": {},
   "outputs": [
    {
     "name": "stdout",
     "output_type": "stream",
     "text": [
      "[1, 2, 3, 12]\n",
      "[1, 3, 12]\n"
     ]
    }
   ],
   "source": [
    "#Listen Funktionen\n",
    "my_list = [1, 2, 3]\n",
    "\n",
    "my_list.append(12)\n",
    "\n",
    "# 1, 2, 3, 12\n",
    "print(my_list)\n",
    "\n",
    "1, 2, 3\n",
    "my_list.pop()\n",
    "\n",
    "print(my_list)"
   ]
  },
  {
   "cell_type": "code",
   "execution_count": 15,
   "metadata": {},
   "outputs": [
    {
     "name": "stdout",
     "output_type": "stream",
     "text": [
      "32\n",
      "30\n"
     ]
    }
   ],
   "source": [
    "my_list = [12, 32, 30]\n",
    "\n",
    "print(my_list[1])\n",
    "print(my_list[2])"
   ]
  },
  {
   "cell_type": "code",
   "execution_count": 18,
   "metadata": {},
   "outputs": [
    {
     "name": "stdout",
     "output_type": "stream",
     "text": [
      "{'Peter': [34, 'Fußball', 'Berlin'], 'Dennis': [31, 'Handball', 'Berlin']}\n"
     ]
    }
   ],
   "source": [
    "#Dictionary\n",
    "\n",
    "# key, values\n",
    "# \"Peter\": [34, \"Fußball\", \"Berlin\"]\n",
    "\n",
    "my_dict = {\"Peter\": [34, \"Fußball\", \"Berlin\"],\n",
    "          \"Dennis\": [31, \"Handball\", \"Berlin\"],}\n",
    "\n",
    "print(my_dict)"
   ]
  },
  {
   "cell_type": "code",
   "execution_count": 27,
   "metadata": {},
   "outputs": [
    {
     "name": "stdout",
     "output_type": "stream",
     "text": [
      "{'Peter': [34, 'Fußball', 'Berlin'], 1: 12}\n",
      "{'Peter': [34, 'Fußball', 'Berlin'], 1: 12, 'Dennis': [31, 'Handball', 'Berlin'], 'Karl': [31, 'Handball', 'Potsdam']}\n"
     ]
    }
   ],
   "source": [
    "#Dictionary Funktionen\n",
    "\n",
    "my_dict = {\"Peter\": [34, \"Fußball\", \"Berlin\"],\n",
    "          \"Dennis\": [31, \"Handball\", \"Berlin\"],\n",
    "          1:  12}\n",
    "\n",
    "my_dict.pop(\"Dennis\")\n",
    "print(my_dict)\n",
    "\n",
    "my_dict.update({\"Dennis\": [31, \"Handball\", \"Berlin\"]})\n",
    "my_dict[\"Karl\"] = [31, \"Handball\", \"Berlin\"]\n",
    "\n",
    "my_dict[\"Karl\"] = [31, \"Handball\", \"Potsdam\"]\n",
    "print(my_dict)"
   ]
  },
  {
   "cell_type": "code",
   "execution_count": null,
   "metadata": {},
   "outputs": [],
   "source": [
    "# Liste: []\n",
    "# Dicts: {key: val}"
   ]
  }
 ],
 "metadata": {
  "kernelspec": {
   "display_name": "Python 3",
   "language": "python",
   "name": "python3"
  },
  "language_info": {
   "codemirror_mode": {
    "name": "ipython",
    "version": 3
   },
   "file_extension": ".py",
   "mimetype": "text/x-python",
   "name": "python",
   "nbconvert_exporter": "python",
   "pygments_lexer": "ipython3",
   "version": "3.6.4"
  }
 },
 "nbformat": 4,
 "nbformat_minor": 2
}
