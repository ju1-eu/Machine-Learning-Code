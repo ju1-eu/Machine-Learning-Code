{
 "cells": [
  {
   "cell_type": "markdown",
   "metadata": {},
   "source": [
    "# Listen - Dictionary"
   ]
  },
  {
   "cell_type": "markdown",
   "metadata": {},
   "source": [
    "    Liste: []\n",
    "    Dicts: {key: val}"
   ]
  },
  {
   "cell_type": "markdown",
   "metadata": {},
   "source": [
    "## Listen"
   ]
  },
  {
   "cell_type": "code",
   "execution_count": 1,
   "metadata": {},
   "outputs": [
    {
     "name": "stdout",
     "output_type": "stream",
     "text": [
      "[1, 2, 3, 1.5, True, 'Jan']\n"
     ]
    },
    {
     "data": {
      "text/plain": [
       "6"
      ]
     },
     "execution_count": 1,
     "metadata": {},
     "output_type": "execute_result"
    }
   ],
   "source": [
    "# Listen\n",
    "my_list = [1, 2, 3, 1.5, True, \"Jan\"]# verschiedene Datentypen\n",
    "print(my_list) # Ausgabe\n",
    "len(my_list)   # Länge"
   ]
  },
  {
   "cell_type": "code",
   "execution_count": 2,
   "metadata": {},
   "outputs": [
    {
     "name": "stdout",
     "output_type": "stream",
     "text": [
      "[1, 2, 3, 12]\n",
      "[1, 2, 3]\n"
     ]
    }
   ],
   "source": [
    "# Listen Funktionen\n",
    "my_list = [1, 2, 3]\n",
    "\n",
    "my_list.append(12)# Element hinzufügen\n",
    "\n",
    "# 1, 2, 3, 12\n",
    "print(my_list)    # Ausgabe\n",
    "\n",
    "1, 2, 3\n",
    "my_list.pop()     # Element löschen\n",
    "\n",
    "print(my_list)    # Ausgabe"
   ]
  },
  {
   "cell_type": "code",
   "execution_count": 3,
   "metadata": {},
   "outputs": [
    {
     "name": "stdout",
     "output_type": "stream",
     "text": [
      "12\n",
      "32\n",
      "30\n"
     ]
    }
   ],
   "source": [
    "my_list = [12, 32, 30]\n",
    "\n",
    "print(my_list[0]) # auf Listenelemente zugreifen\n",
    "print(my_list[1])\n",
    "print(my_list[2])"
   ]
  },
  {
   "cell_type": "markdown",
   "metadata": {},
   "source": [
    "## Dictionary"
   ]
  },
  {
   "cell_type": "code",
   "execution_count": 4,
   "metadata": {},
   "outputs": [
    {
     "name": "stdout",
     "output_type": "stream",
     "text": [
      "{'Peter': [34, 'Fußball', 'Berlin'], 'Dennis': [31, 'Handball', 'Berlin']}\n"
     ]
    }
   ],
   "source": [
    "# Dictionary\n",
    "\n",
    "# key, values\n",
    "# \"Peter\": [34, \"Fußball\", \"Berlin\"]\n",
    "\n",
    "my_dict = {\"Peter\": [34, \"Fußball\", \"Berlin\"],\n",
    "          \"Dennis\": [31, \"Handball\", \"Berlin\"],}\n",
    "\n",
    "print(my_dict)"
   ]
  },
  {
   "cell_type": "code",
   "execution_count": 5,
   "metadata": {},
   "outputs": [
    {
     "name": "stdout",
     "output_type": "stream",
     "text": [
      "{'Peter': [34, 'Fußball', 'Berlin'], 1: 12}\n",
      "{'Peter': [34, 'Fußball', 'Berlin'], 1: 12, 'Dennis': [31, 'Handball', 'Berlin'], 'Karl': [31, 'Handball', 'Potsdam']}\n"
     ]
    }
   ],
   "source": [
    "# Dictionary Funktionen\n",
    "\n",
    "my_dict = {\"Peter\": [34, \"Fußball\", \"Berlin\"],\n",
    "          \"Dennis\": [31, \"Handball\", \"Berlin\"],\n",
    "          1:  12}\n",
    "\n",
    "my_dict.pop(\"Dennis\") # löschen\n",
    "print(my_dict)\n",
    "\n",
    "my_dict.update({\"Dennis\": [31, \"Handball\", \"Berlin\"]}) # hinzufügen\n",
    "my_dict[\"Karl\"] = [31, \"Handball\", \"Berlin\"]           # hinzufügen\n",
    "\n",
    "my_dict[\"Karl\"] = [31, \"Handball\", \"Potsdam\"]          # überschreiben      \n",
    "print(my_dict)"
   ]
  }
 ],
 "metadata": {
  "kernelspec": {
   "display_name": "Python 3",
   "language": "python",
   "name": "python3"
  },
  "language_info": {
   "codemirror_mode": {
    "name": "ipython",
    "version": 3
   },
   "file_extension": ".py",
   "mimetype": "text/x-python",
   "name": "python",
   "nbconvert_exporter": "python",
   "pygments_lexer": "ipython3",
   "version": "3.7.6"
  }
 },
 "nbformat": 4,
 "nbformat_minor": 2
}
