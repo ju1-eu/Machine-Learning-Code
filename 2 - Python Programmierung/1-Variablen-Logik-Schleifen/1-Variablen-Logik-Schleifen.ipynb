{
 "cells": [
  {
   "cell_type": "markdown",
   "metadata": {},
   "source": [
    "# Variablen - Logik - Schleifen"
   ]
  },
  {
   "cell_type": "markdown",
   "metadata": {},
   "source": [
    "## Variablen"
   ]
  },
  {
   "cell_type": "code",
   "execution_count": 1,
   "metadata": {},
   "outputs": [
    {
     "name": "stdout",
     "output_type": "stream",
     "text": [
      "1\n",
      "<class 'int'>\n",
      "\n",
      "Datatypen:\n",
      "1\n",
      "<class 'int'>\n",
      "1.0\n",
      "<class 'float'>\n",
      "Jan\n",
      "<class 'str'>\n",
      "True\n",
      "<class 'bool'>\n"
     ]
    }
   ],
   "source": [
    "# Variablen\n",
    "zahl = 1\n",
    "print(zahl)\n",
    "print(type(zahl))\n",
    "\n",
    "# Datentypen\n",
    "v1 = 1\n",
    "v2 = 1.0\n",
    "v3 = 'Jan'\n",
    "v4 = True\n",
    "\n",
    "# Ausgabe\n",
    "print(\"\\nDatatypen:\")\n",
    "print(v1)\n",
    "print(type(v1))\n",
    "print(v2)\n",
    "print(type(v2))\n",
    "print(v3)\n",
    "print(type(v3))\n",
    "print(v4)\n",
    "print(type(v4))"
   ]
  },
  {
   "cell_type": "markdown",
   "metadata": {},
   "source": [
    "## Logik"
   ]
  },
  {
   "cell_type": "code",
   "execution_count": 2,
   "metadata": {},
   "outputs": [
    {
     "name": "stdout",
     "output_type": "stream",
     "text": [
      "Gebe eine Zahl von 1-10 ein! 2\n",
      "<class 'str'>\n",
      "Gebe eine Zahl von 1-10 ein! 2\n",
      "<class 'int'>\n",
      "Du hast verloren!\n"
     ]
    }
   ],
   "source": [
    "# Logik\n",
    "\n",
    "zahl_input = input(\"Gebe eine Zahl von 1-10 ein! \")\n",
    "print(type(zahl_input))\n",
    "zahl_input = int(input(\"Gebe eine Zahl von 1-10 ein! \"))\n",
    "print(type(zahl_input))\n",
    "\n",
    "if zahl_input == 4:\n",
    "    print(\"Du hast gewonnen!\")\n",
    "elif zahl_input == 5 or zahl_input == 3:\n",
    "    print(\"Knapp daneben!\")\n",
    "else:\n",
    "    print(\"Du hast verloren!\")"
   ]
  },
  {
   "cell_type": "markdown",
   "metadata": {},
   "source": [
    "## Schleifen"
   ]
  },
  {
   "cell_type": "code",
   "execution_count": 3,
   "metadata": {},
   "outputs": [
    {
     "name": "stdout",
     "output_type": "stream",
     "text": [
      "Gebe eine Zahl von 1-10 ein! 4\n",
      "Du hast gewonnen!\n",
      "Gebe eine Zahl von 1-10 ein! 4\n",
      "Du hast gewonnen!\n",
      "Gebe eine Zahl von 1-10 ein! 2\n",
      "Du hast verloren!\n"
     ]
    }
   ],
   "source": [
    "# For Schleife\n",
    "\n",
    "for i in range(3):\n",
    "    zahl_input = int(input(\"Gebe eine Zahl von 1-10 ein! \"))\n",
    "\n",
    "    if zahl_input == 4:\n",
    "        print(\"Du hast gewonnen!\")\n",
    "    elif zahl_input == 5 or zahl_input == 3:\n",
    "        print(\"Knapp daneben!\")\n",
    "    else:\n",
    "        print(\"Du hast verloren!\")"
   ]
  },
  {
   "cell_type": "code",
   "execution_count": 4,
   "metadata": {},
   "outputs": [
    {
     "name": "stdout",
     "output_type": "stream",
     "text": [
      "i:  0\n",
      "i:  2\n",
      "i:  4\n",
      "i:  6\n",
      "i:  8\n"
     ]
    }
   ],
   "source": [
    "# Weiteres zur For-Schleife\n",
    "\n",
    "# for(int i = 0; i < 10; i+=2)\n",
    "for i in range(0, 10, 2):\n",
    "    print(\"i: \", i)"
   ]
  },
  {
   "cell_type": "code",
   "execution_count": 5,
   "metadata": {},
   "outputs": [
    {
     "name": "stdout",
     "output_type": "stream",
     "text": [
      "Gebe eine Zahl von 1-10 ein! 1\n",
      "Du hast verloren!\n",
      "Gebe eine Zahl von 1-10 ein! 4\n",
      "Du hast gewonnen!\n",
      "Spiel beendet!\n"
     ]
    }
   ],
   "source": [
    "# While-Schleife\n",
    "\n",
    "gewonnen = False\n",
    "while(gewonnen == False):\n",
    "    zahl_input = int(input(\"Gebe eine Zahl von 1-10 ein! \"))\n",
    "\n",
    "    if zahl_input == 4:\n",
    "        print(\"Du hast gewonnen!\")\n",
    "        gewonnen = True\n",
    "    elif zahl_input == 5 or zahl_input == 3:\n",
    "        print(\"Knapp daneben!\")\n",
    "    else:\n",
    "        print(\"Du hast verloren!\")\n",
    "\n",
    "print(\"Spiel beendet!\")"
   ]
  }
 ],
 "metadata": {
  "kernelspec": {
   "display_name": "Python 3",
   "language": "python",
   "name": "python3"
  },
  "language_info": {
   "codemirror_mode": {
    "name": "ipython",
    "version": 3
   },
   "file_extension": ".py",
   "mimetype": "text/x-python",
   "name": "python",
   "nbconvert_exporter": "python",
   "pygments_lexer": "ipython3",
   "version": "3.7.6"
  }
 },
 "nbformat": 4,
 "nbformat_minor": 2
}
