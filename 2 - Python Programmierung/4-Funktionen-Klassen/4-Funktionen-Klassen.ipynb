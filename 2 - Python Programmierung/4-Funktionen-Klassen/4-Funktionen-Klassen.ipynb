{
 "cells": [
  {
   "cell_type": "code",
   "execution_count": 9,
   "metadata": {},
   "outputs": [],
   "source": [
    "# Funktionen\n",
    "def list_max(my_list):\n",
    "    temp = 0\n",
    "    \n",
    "    for i in range(len(my_list)):\n",
    "        if i == 0:\n",
    "            temp = my_list[i]\n",
    "        else:\n",
    "            if my_list[i] > temp:\n",
    "                print(\"Last max: \", temp)\n",
    "                print(\"New max: \", my_list[i])\n",
    "                temp = my_list[i]\n",
    "                \n",
    "    return temp"
   ]
  },
  {
   "cell_type": "code",
   "execution_count": 10,
   "metadata": {},
   "outputs": [
    {
     "name": "stdout",
     "output_type": "stream",
     "text": [
      "Last max:  1\n",
      "New max:  12\n",
      "Last max:  12\n",
      "New max:  19\n"
     ]
    },
    {
     "data": {
      "text/plain": [
       "19"
      ]
     },
     "execution_count": 10,
     "metadata": {},
     "output_type": "execute_result"
    }
   ],
   "source": [
    "#################################\n",
    "        \n",
    "list_a = [1, 12, -5, -23, 19]\n",
    "\n",
    "list_max(list_a)"
   ]
  },
  {
   "cell_type": "code",
   "execution_count": null,
   "metadata": {},
   "outputs": [],
   "source": [
    "#Klasse: Bauplan\n",
    "#Objekt: Eine Instanz der Klasse XYZ"
   ]
  },
  {
   "cell_type": "code",
   "execution_count": 23,
   "metadata": {},
   "outputs": [],
   "source": [
    "# Klassen\n",
    "\n",
    "class extended_list:\n",
    "    m_list = []\n",
    "    m_size = 0\n",
    "    m_max = 0\n",
    "    \n",
    "    def __init__(self, input_list):\n",
    "        self.m_list = input_list\n",
    "        self.m_size = len(self.m_list)\n",
    "        \n",
    "    def list_max(self):\n",
    "        temp = 0\n",
    "        for i in range(len(self.m_list)):\n",
    "            if i == 0:\n",
    "                temp = self.m_list[i]\n",
    "            else:\n",
    "                if self.m_list[i] > temp:\n",
    "                    temp = self.m_list[i]\n",
    "        self.m_max = temp \n",
    "    \n",
    "    def print_max(self):\n",
    "        print(\"Maximum is: \", self.m_max)"
   ]
  },
  {
   "cell_type": "code",
   "execution_count": 26,
   "metadata": {},
   "outputs": [
    {
     "name": "stdout",
     "output_type": "stream",
     "text": [
      "Maximum is:  50\n"
     ]
    }
   ],
   "source": [
    "input_list = [1, 50, 44, -2]\n",
    "\n",
    "el = extended_list(input_list)\n",
    "el.list_max()\n",
    "el.print_max()"
   ]
  }
 ],
 "metadata": {
  "kernelspec": {
   "display_name": "Python 3",
   "language": "python",
   "name": "python3"
  },
  "language_info": {
   "codemirror_mode": {
    "name": "ipython",
    "version": 3
   },
   "file_extension": ".py",
   "mimetype": "text/x-python",
   "name": "python",
   "nbconvert_exporter": "python",
   "pygments_lexer": "ipython3",
   "version": "3.6.4"
  }
 },
 "nbformat": 4,
 "nbformat_minor": 2
}
