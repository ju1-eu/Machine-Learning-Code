{
 "cells": [
  {
   "cell_type": "markdown",
   "metadata": {},
   "source": [
    "# Numpy\n",
    "\n",
    "numerische Berechnungen"
   ]
  },
  {
   "cell_type": "code",
   "execution_count": 1,
   "metadata": {},
   "outputs": [
    {
     "name": "stdout",
     "output_type": "stream",
     "text": [
      "[1 2 3]\n",
      "(3,)\n"
     ]
    }
   ],
   "source": [
    "# Pakete verwenden\n",
    "# import numpy     # numpy.methode\n",
    "import numpy as np # np.methode\n",
    "\n",
    "my_array = np.array([1, 2, 3]) # Liste in Vektor Speichern\n",
    "\n",
    "print(my_array)       # Array - Vektor: 1 - Dimensional\n",
    "print(my_array.shape) # Länge"
   ]
  },
  {
   "cell_type": "code",
   "execution_count": 2,
   "metadata": {},
   "outputs": [
    {
     "name": "stdout",
     "output_type": "stream",
     "text": [
      "[1 0 0 1]\n",
      "(4,)\n",
      "[[1 0]\n",
      " [0 1]]\n",
      "(2, 2)\n"
     ]
    }
   ],
   "source": [
    "my_array2 = np.array([1, 0, 0, 1])\n",
    "\n",
    "print(my_array2)       # Vektor: 1 - Dim.  [1 0 0 1]\n",
    "print(my_array2.shape) # Länge: 4\n",
    "\n",
    "# 2x2 Matrix aus Vektor erstellen. Achtung: Anzahl beachten!\n",
    "my_array3 = my_array2.reshape((2, 2)) # Übergabe Tupel: (2, 2)\n",
    "\n",
    "print(my_array3)       # [[1 0][0 1]]\n",
    "print(my_array3.shape) # Länge: (2, 2)"
   ]
  },
  {
   "cell_type": "code",
   "execution_count": 3,
   "metadata": {
    "scrolled": true
   },
   "outputs": [
    {
     "name": "stdout",
     "output_type": "stream",
     "text": [
      "[[0. 0. 0.]\n",
      " [0. 0. 0.]\n",
      " [0. 0. 0.]]\n"
     ]
    },
    {
     "data": {
      "text/plain": [
       "array([[0, 0, 0],\n",
       "       [0, 0, 0],\n",
       "       [0, 0, 0]], dtype=int8)"
      ]
     },
     "execution_count": 3,
     "metadata": {},
     "output_type": "execute_result"
    }
   ],
   "source": [
    "my_zero = np.zeros(shape=(3, 3), dtype=np.float32) # 3x3 Matrix, float\n",
    "\n",
    "print(my_zero) # float 0.\n",
    "\n",
    "my_zero.astype(np.int8, copy=False) # 3x3 Matrix, int8 = 8 bit = 256"
   ]
  },
  {
   "cell_type": "code",
   "execution_count": 4,
   "metadata": {},
   "outputs": [
    {
     "data": {
      "text/plain": [
       "(array([1., 1.]),\n",
       " array([[1., 0.],\n",
       "        [0., 1.]]))"
      ]
     },
     "execution_count": 4,
     "metadata": {},
     "output_type": "execute_result"
    }
   ],
   "source": [
    "# Funktion anwenden\n",
    "np.linalg.eig(my_array3) # Matrix übergeben"
   ]
  }
 ],
 "metadata": {
  "kernelspec": {
   "display_name": "Python 3",
   "language": "python",
   "name": "python3"
  },
  "language_info": {
   "codemirror_mode": {
    "name": "ipython",
    "version": 3
   },
   "file_extension": ".py",
   "mimetype": "text/x-python",
   "name": "python",
   "nbconvert_exporter": "python",
   "pygments_lexer": "ipython3",
   "version": "3.7.6"
  }
 },
 "nbformat": 4,
 "nbformat_minor": 2
}
